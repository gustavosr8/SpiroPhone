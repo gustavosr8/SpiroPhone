{
  "nbformat": 4,
  "nbformat_minor": 0,
  "metadata": {
    "colab": {
      "provenance": [],
      "authorship_tag": "ABX9TyMJsayz7H2TRB/y8U66kx5w",
      "include_colab_link": true
    },
    "kernelspec": {
      "name": "python3",
      "display_name": "Python 3"
    },
    "language_info": {
      "name": "python"
    }
  },
  "cells": [
    {
      "cell_type": "markdown",
      "metadata": {
        "id": "view-in-github",
        "colab_type": "text"
      },
      "source": [
        "<a href=\"https://colab.research.google.com/github/gustavosr8/SpiroPhone/blob/master/DataAumentation.ipynb\" target=\"_parent\"><img src=\"https://colab.research.google.com/assets/colab-badge.svg\" alt=\"Open In Colab\"/></a>"
      ]
    },
    {
      "cell_type": "markdown",
      "source": [
        "baseado em https://medium.com/analytics-vidhya/adding-noise-to-audio-clips-5d8cee24ccb8"
      ],
      "metadata": {
        "id": "IBS_NfMvdcQS"
      }
    },
    {
      "cell_type": "code",
      "source": [
        "import os\n",
        "from google.colab import drive\n",
        "import soundfile as sf\n",
        "\n",
        "\n",
        "import math\n",
        "\n",
        "import numpy as np\n",
        "import matplotlib.pyplot as plt\n",
        "import pandas as pd\n",
        "import seaborn as sns\n",
        "\n",
        "import librosa\n",
        "import librosa.display"
      ],
      "metadata": {
        "id": "kKAgOMLqclF8"
      },
      "execution_count": null,
      "outputs": []
    },
    {
      "cell_type": "code",
      "execution_count": null,
      "metadata": {
        "colab": {
          "base_uri": "https://localhost:8080/"
        },
        "id": "AdmRWK-_cZLK",
        "outputId": "0a543e0e-2580-43aa-ca7c-42bb81777520"
      },
      "outputs": [
        {
          "output_type": "stream",
          "name": "stdout",
          "text": [
            "Mounted at /content/drive\n",
            "1 /content/drive/MyDrive/IC/codigo/assets/4306486.wav\n",
            "11 /content/drive/MyDrive/IC/codigo/assets/10348393.wav\n",
            "21 /content/drive/MyDrive/IC/codigo/assets/4340095.wav\n",
            "31 /content/drive/MyDrive/IC/codigo/assets/10305974n.wav\n",
            "41 /content/drive/MyDrive/IC/codigo/assets/863418n.wav\n",
            "Encontrei esse numero de arquivos: 46\n"
          ]
        }
      ],
      "source": [
        "drive.mount('/content/drive')\n",
        "path='/content/drive/MyDrive/IC/codigo/assets/'\n",
        "dataset = 'dataset.csv'\n",
        "\n",
        "df = pd.read_csv(path+dataset)\n",
        "df.head()\n",
        "\n",
        "# Checando se arquivos existem, numero de canais e taxa de amostragem\n",
        "n_files = 0\n",
        "missing_files = 0\n",
        "taxas_de_amostragem = []\n",
        "duracoes = []\n",
        "amostras = []\n",
        "classe = []\n",
        "for index, row in df.iterrows():\n",
        "  full_fname = path + str(row['REGISTRO'])+'.wav'\n",
        "  if (n_files % 10 == 0):\n",
        "    print(str(n_files+1) + \" \" + full_fname)\n",
        "  if not os.path.exists(full_fname):\n",
        "    print(str(row['REGISTRO']) + \" (index=\" + str(n_files) + \") does not exist!\")\n",
        "    df.drop(df.index[n_files])\n",
        "    missing_files += 1\n",
        "    n_files += 1\n",
        "  else:\n",
        "    y, sr = librosa.load(full_fname, sr=None, mono=True)\n",
        "    taxas_de_amostragem.append(sr)\n",
        "    duracoes.append(len(y)/sr)\n",
        "    amostras.append(y)\n",
        "    n_files += 1\n",
        "print(\"Encontrei esse numero de arquivos: \" + str(n_files-missing_files))\n",
        "df['sr'] = taxas_de_amostragem\n",
        "df['len'] = duracoes"
      ]
    },
    {
      "cell_type": "code",
      "source": [
        "RMS = []\n",
        "for amostra in amostras:\n",
        "  RMS.append(math.sqrt(math.sqrt(np.mean(amostra**2))**2/(pow(10,0.2/10))))\n",
        "\n",
        "noise = []\n",
        "for i in range(len(RMS)):\n",
        "  noise.append(np.random.normal(0, RMS[i], amostras[i].shape[0]))\n",
        "\n",
        "sinal_ruido = []\n",
        "for i in range(len(RMS)):\n",
        "  sinal_ruido.append(amostras[i] + noise[i])"
      ],
      "metadata": {
        "id": "BCKs3OPTe6sj"
      },
      "execution_count": null,
      "outputs": []
    },
    {
      "cell_type": "code",
      "source": [
        "for index, row in df.iterrows():\n",
        "  full_fname = path + str(row['REGISTRO'])+'n.wav'\n",
        "  print(full_fname)\n",
        "  sf.write(full_fname, sinal_ruido[index], 48000, subtype='PCM_24')\n"
      ],
      "metadata": {
        "colab": {
          "base_uri": "https://localhost:8080/"
        },
        "id": "wEScZlT8gyGc",
        "outputId": "12761c5d-5079-4323-823c-a3ad694032fa"
      },
      "execution_count": null,
      "outputs": [
        {
          "output_type": "stream",
          "name": "stdout",
          "text": [
            "/content/drive/MyDrive/IC/codigo/assets/4306486n.wav\n",
            "/content/drive/MyDrive/IC/codigo/assets/10429556n.wav\n",
            "/content/drive/MyDrive/IC/codigo/assets/3724996n.wav\n",
            "/content/drive/MyDrive/IC/codigo/assets/10433358n.wav\n",
            "/content/drive/MyDrive/IC/codigo/assets/10425372n.wav\n",
            "/content/drive/MyDrive/IC/codigo/assets/4481868n.wav\n",
            "/content/drive/MyDrive/IC/codigo/assets/10082908n.wav\n",
            "/content/drive/MyDrive/IC/codigo/assets/10305974n.wav\n",
            "/content/drive/MyDrive/IC/codigo/assets/4432769n.wav\n",
            "/content/drive/MyDrive/IC/codigo/assets/522460n.wav\n",
            "/content/drive/MyDrive/IC/codigo/assets/10348393n.wav\n",
            "/content/drive/MyDrive/IC/codigo/assets/4544683n.wav\n",
            "/content/drive/MyDrive/IC/codigo/assets/7109657n.wav\n",
            "/content/drive/MyDrive/IC/codigo/assets/4548116n.wav\n",
            "/content/drive/MyDrive/IC/codigo/assets/893629n.wav\n",
            "/content/drive/MyDrive/IC/codigo/assets/4589993n.wav\n",
            "/content/drive/MyDrive/IC/codigo/assets/10137282n.wav\n",
            "/content/drive/MyDrive/IC/codigo/assets/863418n.wav\n",
            "/content/drive/MyDrive/IC/codigo/assets/4569469n.wav\n",
            "/content/drive/MyDrive/IC/codigo/assets/4027607n.wav\n",
            "/content/drive/MyDrive/IC/codigo/assets/4340095n.wav\n",
            "/content/drive/MyDrive/IC/codigo/assets/10462710n.wav\n",
            "/content/drive/MyDrive/IC/codigo/assets/101549938n.wav\n"
          ]
        }
      ]
    },
    {
      "cell_type": "code",
      "source": [
        "for index, row in df.iterrows():\n",
        "  full_fname = path + str(row['REGISTRO'])+'g.wav'\n",
        "  print(full_fname)\n",
        "  sf.write(full_fname, [i*1.5 for i in amostras[index]], 48000, subtype='PCM_24')"
      ],
      "metadata": {
        "id": "pSsP__43gz9v",
        "colab": {
          "base_uri": "https://localhost:8080/"
        },
        "outputId": "c7c182c3-f22b-4df7-a0ec-ed59cc0b48cf"
      },
      "execution_count": null,
      "outputs": [
        {
          "output_type": "stream",
          "name": "stdout",
          "text": [
            "/content/drive/MyDrive/IC/codigo/assets/4306486g.wav\n",
            "/content/drive/MyDrive/IC/codigo/assets/10429556g.wav\n",
            "/content/drive/MyDrive/IC/codigo/assets/3724996g.wav\n",
            "/content/drive/MyDrive/IC/codigo/assets/10433358g.wav\n",
            "/content/drive/MyDrive/IC/codigo/assets/10425372g.wav\n",
            "/content/drive/MyDrive/IC/codigo/assets/4481868g.wav\n",
            "/content/drive/MyDrive/IC/codigo/assets/10082908g.wav\n",
            "/content/drive/MyDrive/IC/codigo/assets/10305974g.wav\n",
            "/content/drive/MyDrive/IC/codigo/assets/4432769g.wav\n",
            "/content/drive/MyDrive/IC/codigo/assets/522460g.wav\n",
            "/content/drive/MyDrive/IC/codigo/assets/10348393g.wav\n",
            "/content/drive/MyDrive/IC/codigo/assets/4544683g.wav\n",
            "/content/drive/MyDrive/IC/codigo/assets/7109657g.wav\n",
            "/content/drive/MyDrive/IC/codigo/assets/4548116g.wav\n",
            "/content/drive/MyDrive/IC/codigo/assets/893629g.wav\n",
            "/content/drive/MyDrive/IC/codigo/assets/4589993g.wav\n",
            "/content/drive/MyDrive/IC/codigo/assets/10137282g.wav\n",
            "/content/drive/MyDrive/IC/codigo/assets/863418g.wav\n",
            "/content/drive/MyDrive/IC/codigo/assets/4569469g.wav\n",
            "/content/drive/MyDrive/IC/codigo/assets/4027607g.wav\n",
            "/content/drive/MyDrive/IC/codigo/assets/4340095g.wav\n",
            "/content/drive/MyDrive/IC/codigo/assets/10462710g.wav\n",
            "/content/drive/MyDrive/IC/codigo/assets/101549938g.wav\n",
            "/content/drive/MyDrive/IC/codigo/assets/4306486ng.wav\n",
            "/content/drive/MyDrive/IC/codigo/assets/10429556ng.wav\n",
            "/content/drive/MyDrive/IC/codigo/assets/3724996ng.wav\n",
            "/content/drive/MyDrive/IC/codigo/assets/10433358ng.wav\n",
            "/content/drive/MyDrive/IC/codigo/assets/10425372ng.wav\n",
            "/content/drive/MyDrive/IC/codigo/assets/4481868ng.wav\n",
            "/content/drive/MyDrive/IC/codigo/assets/10082908ng.wav\n",
            "/content/drive/MyDrive/IC/codigo/assets/10305974ng.wav\n",
            "/content/drive/MyDrive/IC/codigo/assets/4432769ng.wav\n",
            "/content/drive/MyDrive/IC/codigo/assets/522460ng.wav\n",
            "/content/drive/MyDrive/IC/codigo/assets/10348393ng.wav\n",
            "/content/drive/MyDrive/IC/codigo/assets/4544683ng.wav\n",
            "/content/drive/MyDrive/IC/codigo/assets/7109657ng.wav\n",
            "/content/drive/MyDrive/IC/codigo/assets/4548116ng.wav\n",
            "/content/drive/MyDrive/IC/codigo/assets/893629ng.wav\n",
            "/content/drive/MyDrive/IC/codigo/assets/4589993ng.wav\n",
            "/content/drive/MyDrive/IC/codigo/assets/10137282ng.wav\n",
            "/content/drive/MyDrive/IC/codigo/assets/863418ng.wav\n",
            "/content/drive/MyDrive/IC/codigo/assets/4569469ng.wav\n",
            "/content/drive/MyDrive/IC/codigo/assets/4027607ng.wav\n",
            "/content/drive/MyDrive/IC/codigo/assets/4340095ng.wav\n",
            "/content/drive/MyDrive/IC/codigo/assets/10462710ng.wav\n",
            "/content/drive/MyDrive/IC/codigo/assets/101549938ng.wav\n"
          ]
        }
      ]
    },
    {
      "cell_type": "code",
      "source": [
        "a=[0,1,2,3,4,5]\n",
        "print([i*1.5 for i in a])"
      ],
      "metadata": {
        "id": "Ghk8ZRTIqam9",
        "colab": {
          "base_uri": "https://localhost:8080/"
        },
        "outputId": "ec37cd0d-674b-42f9-974c-d73a4574c8a6"
      },
      "execution_count": null,
      "outputs": [
        {
          "output_type": "stream",
          "name": "stdout",
          "text": [
            "[0.0, 1.5, 3.0, 4.5, 6.0, 7.5]\n"
          ]
        }
      ]
    },
    {
      "cell_type": "code",
      "source": [],
      "metadata": {
        "id": "1KB0-se6z-hY"
      },
      "execution_count": null,
      "outputs": []
    }
  ]
}